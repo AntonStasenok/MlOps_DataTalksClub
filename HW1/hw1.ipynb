{
  "nbformat": 4,
  "nbformat_minor": 0,
  "metadata": {
    "colab": {
      "name": "Untitled12.ipynb",
      "provenance": []
    },
    "kernelspec": {
      "name": "python3",
      "display_name": "Python 3"
    },
    "language_info": {
      "name": "python"
    }
  },
  "cells": [
    {
      "cell_type": "code",
      "execution_count": 1,
      "metadata": {
        "id": "ngk-jbFAiVsA"
      },
      "outputs": [],
      "source": [
        "import pandas as pd\n",
        "import numpy as np\n",
        "from sklearn.feature_extraction import DictVectorizer\n",
        "from sklearn.linear_model import LinearRegression\n",
        "from sklearn.metrics import mean_squared_error"
      ]
    },
    {
      "cell_type": "code",
      "source": [
        "df = pd.read_parquet('/content/fhv_tripdata_2021-01.parquet')"
      ],
      "metadata": {
        "id": "ClHt7vCgic1I"
      },
      "execution_count": 2,
      "outputs": []
    },
    {
      "cell_type": "code",
      "source": [
        "df['duration'] = (df.dropOff_datetime - df.pickup_datetime).apply(lambda x: x.total_seconds() / 60)"
      ],
      "metadata": {
        "id": "kYDNFjGijKM3"
      },
      "execution_count": 3,
      "outputs": []
    },
    {
      "cell_type": "code",
      "source": [
        "df.loc[df['duration'] < 61, 'duration'].hist()"
      ],
      "metadata": {
        "colab": {
          "base_uri": "https://localhost:8080/",
          "height": 283
        },
        "id": "DdAPIV_YlRnX",
        "outputId": "4700afd6-1529-4531-949d-3890d8ffe937"
      },
      "execution_count": 4,
      "outputs": [
        {
          "output_type": "execute_result",
          "data": {
            "text/plain": [
              "<matplotlib.axes._subplots.AxesSubplot at 0x7ff2aa4e4e10>"
            ]
          },
          "metadata": {},
          "execution_count": 4
        },
        {
          "output_type": "display_data",
          "data": {
            "text/plain": [
              "<Figure size 432x288 with 1 Axes>"
            ],
            "image/png": "[encoded data removed]"
          },
          "metadata": {
            "needs_background": "light"
          }
        }
      ]
    },
    {
      "cell_type": "code",
      "source": [
        "data = df.loc[(df['duration'] >= 1) & (df['duration'] < 61)]"
      ],
      "metadata": {
        "id": "c0w0_OoDnTgR"
      },
      "execution_count": 5,
      "outputs": []
    },
    {
      "cell_type": "code",
      "source": [
        "df.shape"
      ],
      "metadata": {
        "colab": {
          "base_uri": "https://localhost:8080/"
        },
        "id": "Vr8xPnmZoblj",
        "outputId": "32fd6db8-511a-49a9-9e1d-7eac2ab42797"
      },
      "execution_count": 6,
      "outputs": [
        {
          "output_type": "execute_result",
          "data": {
            "text/plain": [
              "(1154112, 8)"
            ]
          },
          "metadata": {},
          "execution_count": 6
        }
      ]
    },
    {
      "cell_type": "code",
      "source": [
        "df2 = data.fillna(-1)"
      ],
      "metadata": {
        "id": "LjeM2sU3nW-G"
      },
      "execution_count": 7,
      "outputs": []
    },
    {
      "cell_type": "code",
      "source": [
        "df2[df2['PUlocationID'] == -1].shape[0] / data.shape[0]"
      ],
      "metadata": {
        "colab": {
          "base_uri": "https://localhost:8080/"
        },
        "id": "6MRhkdIPpTRF",
        "outputId": "085d364f-b5ab-43b2-9b7a-e8da727bea2c"
      },
      "execution_count": 8,
      "outputs": [
        {
          "output_type": "execute_result",
          "data": {
            "text/plain": [
              "0.8351935819846193"
            ]
          },
          "metadata": {},
          "execution_count": 8
        }
      ]
    },
    {
      "cell_type": "code",
      "source": [
        "df2['PUlocationID'] = df2['PUlocationID'].astype(str)"
      ],
      "metadata": {
        "id": "ZhsDZscCt9V9"
      },
      "execution_count": 9,
      "outputs": []
    },
    {
      "cell_type": "code",
      "source": [
        "df2['DOlocationID'] = df2['DOlocationID'].astype(str)"
      ],
      "metadata": {
        "id": "21tOW2ibuGH-"
      },
      "execution_count": 10,
      "outputs": []
    },
    {
      "cell_type": "code",
      "source": [
        "df2[['PUlocationID', 'DOlocationID']].dtypes"
      ],
      "metadata": {
        "colab": {
          "base_uri": "https://localhost:8080/"
        },
        "id": "6QXDZU0IsV1B",
        "outputId": "fa7cbbb7-49a8-495d-d3bd-143f53e29f05"
      },
      "execution_count": 11,
      "outputs": [
        {
          "output_type": "execute_result",
          "data": {
            "text/plain": [
              "PUlocationID    object\n",
              "DOlocationID    object\n",
              "dtype: object"
            ]
          },
          "metadata": {},
          "execution_count": 11
        }
      ]
    },
    {
      "cell_type": "code",
      "source": [
        "train_dict = df2[['PUlocationID', 'DOlocationID']].to_dict(orient='records')"
      ],
      "metadata": {
        "id": "0LjQgCitqQmV"
      },
      "execution_count": 12,
      "outputs": []
    },
    {
      "cell_type": "code",
      "source": [
        "dv = DictVectorizer()\n",
        "X_train = dv.fit_transform(train_dict)"
      ],
      "metadata": {
        "id": "2yuKTnT7snYO"
      },
      "execution_count": 13,
      "outputs": []
    },
    {
      "cell_type": "code",
      "source": [
        "X_train"
      ],
      "metadata": {
        "colab": {
          "base_uri": "https://localhost:8080/"
        },
        "id": "dTfbjXa6su4b",
        "outputId": "0234cbcd-91ed-4b54-e019-e77e9514c784"
      },
      "execution_count": 14,
      "outputs": [
        {
          "output_type": "execute_result",
          "data": {
            "text/plain": [
              "<1110873x525 sparse matrix of type '<class 'numpy.float64'>'\n",
              "\twith 2221746 stored elements in Compressed Sparse Row format>"
            ]
          },
          "metadata": {},
          "execution_count": 14
        }
      ]
    },
    {
      "cell_type": "code",
      "source": [
        "y = df2['duration'].values"
      ],
      "metadata": {
        "id": "KBKBAJHvuLLK"
      },
      "execution_count": 15,
      "outputs": []
    },
    {
      "cell_type": "code",
      "source": [
        "model = LinearRegression()\n",
        "model.fit(X_train, y)"
      ],
      "metadata": {
        "colab": {
          "base_uri": "https://localhost:8080/"
        },
        "id": "FJv6Myrkubtj",
        "outputId": "f347e65f-d98e-4c2f-e47b-ade6098221ab"
      },
      "execution_count": 16,
      "outputs": [
        {
          "output_type": "execute_result",
          "data": {
            "text/plain": [
              "LinearRegression()"
            ]
          },
          "metadata": {},
          "execution_count": 16
        }
      ]
    },
    {
      "cell_type": "code",
      "source": [
        "np.sqrt(mean_squared_error(y, model.predict(X_train)))"
      ],
      "metadata": {
        "colab": {
          "base_uri": "https://localhost:8080/"
        },
        "id": "Wl5Hx_z0vA9q",
        "outputId": "04486598-1749-4e08-9a1b-e194149a4f26"
      },
      "execution_count": 17,
      "outputs": [
        {
          "output_type": "execute_result",
          "data": {
            "text/plain": [
              "10.596034496969224"
            ]
          },
          "metadata": {},
          "execution_count": 17
        }
      ]
    },
    {
      "cell_type": "code",
      "source": [
        "test = pd.read_parquet('/content/fhv_tripdata_2021-02.parquet')"
      ],
      "metadata": {
        "id": "EpbZ-2WewQM7"
      },
      "execution_count": 18,
      "outputs": []
    },
    {
      "cell_type": "code",
      "source": [
        "test['duration'] = (test.dropOff_datetime - test.pickup_datetime).apply(lambda x: x.total_seconds() / 60)\n",
        "test = test.loc[(test['duration'] >= 1) & (test['duration'] < 61)]"
      ],
      "metadata": {
        "id": "tvtMX3jGw92X"
      },
      "execution_count": 19,
      "outputs": []
    },
    {
      "cell_type": "code",
      "source": [
        "test_data = test[['PUlocationID', 'DOlocationID', 'duration']].fillna(-1)"
      ],
      "metadata": {
        "id": "RHCTTobmvK_q"
      },
      "execution_count": 20,
      "outputs": []
    },
    {
      "cell_type": "code",
      "source": [
        "test_data['PUlocationID'] = test_data['PUlocationID'].astype(str)\n",
        "test_data['DOlocationID'] = test_data['DOlocationID'].astype(str)"
      ],
      "metadata": {
        "id": "571301oqxOoy"
      },
      "execution_count": 21,
      "outputs": []
    },
    {
      "cell_type": "code",
      "source": [
        "test_dict = test_data[['PUlocationID', 'DOlocationID']].to_dict(orient='records')\n",
        "X_test = dv.transform(test_dict)"
      ],
      "metadata": {
        "id": "r0KDJ7ruxUVx"
      },
      "execution_count": 22,
      "outputs": []
    },
    {
      "cell_type": "code",
      "source": [
        "y_test = test_data['duration'].values"
      ],
      "metadata": {
        "id": "M8RORXa5yBhM"
      },
      "execution_count": 23,
      "outputs": []
    },
    {
      "cell_type": "code",
      "source": [
        "np.sqrt(mean_squared_error(y_test, model.predict(X_test)))"
      ],
      "metadata": {
        "colab": {
          "base_uri": "https://localhost:8080/"
        },
        "id": "QvtPfAksx2YS",
        "outputId": "90987b71-af2e-4c6a-854a-d10270abf11d"
      },
      "execution_count": 24,
      "outputs": [
        {
          "output_type": "execute_result",
          "data": {
            "text/plain": [
              "11.09634287004778"
            ]
          },
          "metadata": {},
          "execution_count": 24
        }
      ]
    },
    {
      "cell_type": "code",
      "source": [
        ""
      ],
      "metadata": {
        "id": "cxGr0_EcyhNQ"
      },
      "execution_count": 24,
      "outputs": []
    }
  ]
}