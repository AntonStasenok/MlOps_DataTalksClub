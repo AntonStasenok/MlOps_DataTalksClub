{
  "nbformat": 4,
  "nbformat_minor": 0,
  "metadata": {
    "colab": {
      "name": "Untitled12.ipynb",
      "provenance": []
    },
    "kernelspec": {
      "name": "python3",
      "display_name": "Python 3"
    },
    "language_info": {
      "name": "python"
    }
  },
  "cells": [
    {
      "cell_type": "code",
      "execution_count": 1,
      "metadata": {
        "id": "ngk-jbFAiVsA"
      },
      "outputs": [],
      "source": [
        "import pandas as pd\n",
        "import numpy as np\n",
        "from pandas.core.frame import DataFrame\n",
        "from sklearn.feature_extraction import DictVectorizer\n",
        "from sklearn.linear_model import LinearRegression\n",
        "from sklearn.metrics import mean_squared_error"
      ]
    },
    {
      "cell_type": "code",
      "source": [
        "\n",
        "def data_preparation(path: str) -> DataFrame:\n",
        "  df = pd.read_parquet(path)\n",
        "  df['duration'] = (df.dropOff_datetime - df.pickup_datetime).apply(lambda x: x.total_seconds() / 60)\n",
        "  df_prep = df.loc[(df['duration'] >= 1) & (df['duration'] < 61)]\n",
        "  df_prep = df_prep.fillna(-1)\n",
        "\n",
        "  df_sh = df.shape[0]\n",
        "  df_prep_sh = df_prep.shape[0]\n",
        "  droped_records = df_sh - df_prep_sh\n",
        "  mis_fr = df_prep[df_prep['PUlocationID'] == -1].shape[0] / df_prep_sh\n",
        "  avg_dur = df['duration'].mean()\n",
        "\n",
        "  print(f'Shape of original df is {df_sh}')\n",
        "  print(f'Average trip duration is {avg_dur}')\n",
        "  print(f'Count of droped records is {droped_records}')\n",
        "  print(f'Fractions of missing values is {mis_fr}')\n",
        "  return df_prep\n",
        "\n",
        "def data_transformation(df: DataFrame, features: list, target: str, dv: DictVectorizer, flag: str = 'train') -> None:\n",
        "  y = df[target].values\n",
        "\n",
        "  for feature in features:\n",
        "    df[feature] = df[feature].astype(str)\n",
        "\n",
        "  df_dict = df[features].to_dict(orient='records')\n",
        "  if flag == 'train':\n",
        "    X = dv.fit_transform(df_dict)\n",
        "  else:\n",
        "    X = dv.transform(df_dict)\n",
        "  \n",
        "  return X, y\n",
        "\n",
        "def fit_predict(X, y, model, flag = 'train'):\n",
        "  if flag == 'train':\n",
        "    model.fit(X_train, y)\n",
        "  RMSE = np.sqrt(mean_squared_error(y, model.predict(X)))\n",
        "  print(f'RMSE is {RMSE}')\n"
      ],
      "metadata": {
        "id": "2ET7WBOc-sHI"
      },
      "execution_count": 2,
      "outputs": []
    },
    {
      "cell_type": "code",
      "source": [
        "train_path = '/content/fhv_tripdata_2021-01.parquet'\n",
        "test_path = '/content/fhv_tripdata_2021-02.parquet'\n",
        "\n",
        "dv = DictVectorizer()\n",
        "model = LinearRegression()\n",
        "\n",
        "train_df = data_preparation(train_path)\n",
        "X_train, y_train = data_transformation(train_df, ['PUlocationID', 'DOlocationID'], 'duration', dv)\n",
        "fit_predict(X_train, y_train, model)"
      ],
      "metadata": {
        "colab": {
          "base_uri": "https://localhost:8080/"
        },
        "id": "o-4EYMgKDjyN",
        "outputId": "927605e5-5530-4f7c-9ac1-83969e230094"
      },
      "execution_count": 3,
      "outputs": [
        {
          "output_type": "stream",
          "name": "stdout",
          "text": [
            "Shape of original df is 1154112\n",
            "Average trip duration is 19.1672240937939\n",
            "Count of droped records is 43239\n",
            "Fractions of missing values is 0.8351935819846193\n",
            "RMSE is 10.596034496969224\n"
          ]
        }
      ]
    },
    {
      "cell_type": "code",
      "source": [
        "test_df = data_preparation(test_path)\n",
        "X_test, y_test = data_transformation(test_df, ['PUlocationID', 'DOlocationID'], 'duration', dv, flag = 'test')\n",
        "fit_predict(X_test, y_test, model, flag = 'test')"
      ],
      "metadata": {
        "colab": {
          "base_uri": "https://localhost:8080/"
        },
        "id": "9L-v3YstGB9W",
        "outputId": "beb67818-ecb6-4dd5-fdd1-b9a568524119"
      },
      "execution_count": 4,
      "outputs": [
        {
          "output_type": "stream",
          "name": "stdout",
          "text": [
            "Shape of original df is 1037692\n",
            "Average trip duration is 20.70698622520125\n",
            "Count of droped records is 46371\n",
            "Fractions of missing values is 0.8571058214241402\n",
            "RMSE is 11.09634287004778\n"
          ]
        }
      ]
    },
    {
      "cell_type": "code",
      "source": [
        ""
      ],
      "metadata": {
        "id": "cxGr0_EcyhNQ"
      },
      "execution_count": 24,
      "outputs": []
    }
  ]
}